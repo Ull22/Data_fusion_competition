{
  "nbformat": 4,
  "nbformat_minor": 0,
  "metadata": {
    "colab": {
      "name": "TF_IDF_3.ipynb",
      "provenance": [],
      "collapsed_sections": []
    },
    "kernelspec": {
      "display_name": "Python 3",
      "name": "python3"
    }
  },
  "cells": [
    {
      "cell_type": "markdown",
      "metadata": {
        "id": "XOi0u28pgZad"
      },
      "source": [
        "## Категоризация товаров по их наименованию"
      ]
    },
    {
      "cell_type": "code",
      "metadata": {
        "id": "uaBrUpjPo33P"
      },
      "source": [
        "import pandas as pd\n",
        "import numpy as np"
      ],
      "execution_count": 1,
      "outputs": []
    },
    {
      "cell_type": "code",
      "metadata": {
        "colab": {
          "base_uri": "https://localhost:8080/"
        },
        "id": "EhYeiqFno42X",
        "outputId": "0bdceb6b-e56e-4489-8bf2-20c85b505568"
      },
      "source": [
        "from sklearn.svm import LinearSVC\n",
        "from sklearn.preprocessing import StandardScaler\n",
        "from sklearn.model_selection import cross_val_score, cross_val_predict\n",
        "from sklearn.feature_extraction.text import TfidfVectorizer\n",
        "from sklearn.metrics import f1_score\n",
        "from sklearn.model_selection import train_test_split\n",
        "from sklearn.model_selection import KFold\n",
        "from scipy.sparse import hstack"
      ],
      "execution_count": 2,
      "outputs": [
        {
          "output_type": "stream",
          "text": [
            "[nltk_data] Downloading package stopwords to /root/nltk_data...\n",
            "[nltk_data]   Package stopwords is already up-to-date!\n"
          ],
          "name": "stdout"
        }
      ]
    },
    {
      "cell_type": "code",
      "metadata": {
        "id": "UPuHAVW0o7_c"
      },
      "source": [
        "train = pickle.load(open('train', 'rb'))\n",
        "train = train[train.category_id != -1].drop_duplicates('item_name')"
      ],
      "execution_count": 3,
      "outputs": []
    },
    {
      "cell_type": "code",
      "metadata": {
        "id": "_WTiSkw2KhLo"
      },
      "source": [
        "features = train['item_name']\n",
        "target = train['category_id']"
      ],
      "execution_count": 4,
      "outputs": []
    },
    {
      "cell_type": "code",
      "metadata": {
        "id": "1pIf2jUfQDL-"
      },
      "source": [
        "tfidf1 = TfidfVectorizer(\n",
        "    #sublinear_tf=True,\n",
        "    analyzer='word',\n",
        "    #token_pattern=r'\\w{1,}',\n",
        "    #stop_words=stop,\n",
        "    ngram_range=(1, 2),\n",
        "    #max_features=1000000\n",
        "    )\n",
        "tfidf1.fit(features)\n",
        "train_word_features = tfidf1.transform(features)"
      ],
      "execution_count": 5,
      "outputs": []
    },
    {
      "cell_type": "code",
      "metadata": {
        "id": "MchwL78OpVty"
      },
      "source": [
        "tfidf2 = TfidfVectorizer(\n",
        "    #sublinear_tf=True,\n",
        "    analyzer='char_wb',\n",
        "    #stop_words='english',\n",
        "    ngram_range=(3, 5),\n",
        "    max_features=300000\n",
        "    )\n",
        "tfidf2.fit(features)\n",
        "train_char_features = tfidf2.transform(features)\n"
      ],
      "execution_count": 6,
      "outputs": []
    },
    {
      "cell_type": "code",
      "metadata": {
        "id": "P9zbOCa8QLSv"
      },
      "source": [
        "X_train = hstack([train_char_features, train_word_features])"
      ],
      "execution_count": 7,
      "outputs": []
    },
    {
      "cell_type": "code",
      "metadata": {
        "id": "Kun3U219vcPX"
      },
      "source": [
        "cv = KFold(n_splits=8, random_state=42, shuffle=True)"
      ],
      "execution_count": 8,
      "outputs": []
    },
    {
      "cell_type": "code",
      "metadata": {
        "id": "PGPXrHHiWj3W"
      },
      "source": [
        "clf = LinearSVC(verbose=1)"
      ],
      "execution_count": 9,
      "outputs": []
    },
    {
      "cell_type": "code",
      "metadata": {
        "colab": {
          "base_uri": "https://localhost:8080/"
        },
        "id": "yVwrwrvlt_T5",
        "outputId": "1ece20ec-a92a-4d01-91c0-2a27ad53988a"
      },
      "source": [
        "pred = cross_val_predict(clf, X_train, target, cv=cv, method = 'predict')"
      ],
      "execution_count": 10,
      "outputs": [
        {
          "output_type": "stream",
          "text": [
            "[LibLinear][LibLinear][LibLinear][LibLinear][LibLinear][LibLinear][LibLinear][LibLinear]"
          ],
          "name": "stdout"
        }
      ]
    },
    {
      "cell_type": "code",
      "metadata": {
        "colab": {
          "base_uri": "https://localhost:8080/"
        },
        "id": "c2Y830bWNowh",
        "outputId": "be02501a-3996-4e78-c6bc-37e36dab3ea3"
      },
      "source": [
        "f1_score(target, pred, average='weighted')"
      ],
      "execution_count": 11,
      "outputs": [
        {
          "output_type": "execute_result",
          "data": {
            "text/plain": [
              "0.8447374761071896"
            ]
          },
          "metadata": {
            "tags": []
          },
          "execution_count": 11
        }
      ]
    }
  ]
}